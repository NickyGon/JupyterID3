{
 "cells": [
  {
   "cell_type": "markdown",
   "metadata": {},
   "source": [
    "# Notebook de Jupyter para algoritmo ID3 - Nicole Góngora"
   ]
  },
  {
   "cell_type": "markdown",
   "metadata": {},
   "source": [
    "## Creando las funciones para el procesamiento de ID3"
   ]
  },
  {
   "cell_type": "markdown",
   "metadata": {},
   "source": [
    "### Hallando la entropía del dataset"
   ]
  },
  {
   "cell_type": "code",
   "execution_count": 1,
   "metadata": {},
   "outputs": [],
   "source": [
    "def find_entropy(df):\n",
    "    Class = df.keys()[-1] #cambiando el nombre de la clase de variables objetivo\n",
    "    entropy = 0\n",
    "    values = df[Class].unique()\n",
    "    for value in values:\n",
    "        fraction = df[Class].value_counts()[value]/len(df[Class]) #aplicacion de la formula de probabilidad de clases en dataset\n",
    "        entropy += -fraction*np.log2(fraction) #haciendo la sumatoria para el valor de entropia\n",
    "    return entropy"
   ]
  },
  {
   "cell_type": "markdown",
   "metadata": {},
   "source": [
    "### Hallando la entropia de un atributo"
   ]
  },
  {
   "cell_type": "code",
   "execution_count": 2,
   "metadata": {},
   "outputs": [],
   "source": [
    "def find_entropy_attribute(df,attribute):\n",
    "    Class = df.keys()[-1]   #cambiando el nombre de la clase de variables objetivo\n",
    "    target_variables = df[Class].unique()  #Set de las variables objetivo\n",
    "    variables = df[attribute].unique()    #Set de los valores por atributo\n",
    "    entropy2 = 0\n",
    "    for variable in variables:\n",
    "        entropy = 0 #la segunda entropia de la fórmula para ganancia\n",
    "        for target_variable in target_variables:\n",
    "            #numero de nodos de un valor segun la variable objetivo\n",
    "            num = len(df[attribute][df[attribute]==variable][df[Class] ==target_variable])\n",
    "            #numero de nodos de un valor\n",
    "            den = len(df[attribute][df[attribute]==variable])\n",
    "            fraction = num/(den+eps)\n",
    "            #calculo de la segunda entropia\n",
    "            entropy += -fraction*log(fraction+eps)\n",
    "        fraction2 = den/len(df)\n",
    "        #calculo de la primera entropia con el resultado de la otra\n",
    "        entropy2 += -fraction2*entropy\n",
    "    return abs(entropy2)"
   ]
  },
  {
   "cell_type": "markdown",
   "metadata": {},
   "source": [
    "### Hallar el atributo para evaluar el dataset de ejemplos de entrenamiento"
   ]
  },
  {
   "cell_type": "code",
   "execution_count": 3,
   "metadata": {},
   "outputs": [],
   "source": [
    "def find_winner(df):\n",
    "    Entropy_att = []\n",
    "    IG = []\n",
    "    #Iterar los valores terminales\n",
    "    for key in df.keys()[:-1]:\n",
    "        #Hallar por cálculo de entropías (general y atributos terminales) los posibles\n",
    "        IG.append(find_entropy(df)-find_entropy_attribute(df,key))\n",
    "    #Devolver el atributo con el máximo valor en el array de entropías IG\n",
    "    return df.keys()[:-1][np.argmax(IG)] \n"
   ]
  },
  {
   "cell_type": "markdown",
   "metadata": {},
   "source": [
    "### Selección de subsets que contengan un valor deseado de un atributo"
   ]
  },
  {
   "cell_type": "code",
   "execution_count": 4,
   "metadata": {},
   "outputs": [],
   "source": [
    "def get_subtable(df, node,value):\n",
    "    return df[df[node] == value].reset_index(drop=True)"
   ]
  },
  {
   "cell_type": "markdown",
   "metadata": {},
   "source": [
    "### Creación del árbol ID3 a partir de las formulas planteadas"
   ]
  },
  {
   "cell_type": "code",
   "execution_count": 5,
   "metadata": {},
   "outputs": [],
   "source": [
    "def buildTree(df,tree=None): \n",
    "    Class = df.keys()[-1]   #cambiando el nombre de la clase de variables objetivo\n",
    "    node = find_winner(df) #encontrar el nodo a partir del atributo escogido como el mejor, para la versión inicial\n",
    "    attValue = np.unique(df[node]) #Obtener los valores únicos del atributo evaluador\n",
    "    if tree is None:                    \n",
    "        tree={}\n",
    "        tree[node] = {}\n",
    "        #Creando una estructura de árbol de manera recursiva a partir del nodo escogido, \n",
    "        #deteniendo el proceso si el subconjunto obtenido es nulo \n",
    "    for value in attValue:\n",
    "        #Para cada valor de los atributos, obtener subsets a partir de este y el nodo en el que trabaja\n",
    "        subtable = get_subtable(df,node,value)\n",
    "        #\n",
    "        clValue,counts = np.unique(subtable['play'],return_counts=True)                        \n",
    "        if len(counts)==1:#Si el subset generado es de un sólo elemento, es una hoja\n",
    "            tree[node][value] = clValue[0]                                                    \n",
    "        else:        \n",
    "            tree[node][value] = buildTree(subtable) \n",
    "            #Si el subset generado es de varios elementos, llamar a la función recursivamente para extender el árbol y escoger\n",
    "            #nuevo atributo candidato\n",
    "    return tree"
   ]
  },
  {
   "cell_type": "markdown",
   "metadata": {},
   "source": [
    "## Testing del código"
   ]
  },
  {
   "cell_type": "code",
   "execution_count": 6,
   "metadata": {},
   "outputs": [
    {
     "name": "stdout",
     "output_type": "stream",
     "text": [
      "\n",
      " Dataset de Juego de Tennis:\n",
      "\n",
      "      Outlook Temperature Humidity    Wind play\n",
      "0      Sunny         Hot     High    Weak   No\n",
      "1      Sunny         Hot     High  Strong   No\n",
      "2   Overcast         Hot     High    Weak  Yes\n",
      "3       Rain        Mild     High    Weak  Yes\n",
      "4       Rain        Cool   Normal    Weak  Yes\n",
      "5       Rain        Cool   Normal  Strong   No\n",
      "6   Overcast        Cool   Normal  Strong  Yes\n",
      "7      Sunny        Mild     High    Weak   No\n",
      "8      Sunny        Cool   Normal    Weak  Yes\n",
      "9       Rain        Mild   Normal    Weak  Yes\n",
      "10     Sunny        Mild   Normal  Strong  Yes\n",
      "11  Overcast        Mild     High  Strong  Yes\n",
      "12  Overcast         Hot   Normal    Weak  Yes\n",
      "13      Rain        Mild     High  Strong   No\n",
      "{'Outlook': {'Overcast': 'Yes',\n",
      "             'Rain': {'Wind': {'Strong': 'No', 'Weak': 'Yes'}},\n",
      "             'Sunny': {'Humidity': {'High': 'No', 'Normal': 'Yes'}}}}\n"
     ]
    }
   ],
   "source": [
    "import pandas as pd\n",
    "#pd para leer la base de datos\n",
    "import numpy as np\n",
    "#numpy para procesos matemáticos\n",
    "eps = np.finfo(float).eps\n",
    "#uso del número épsilon para procedimientos más acertados\n",
    "from numpy import log2 as log\n",
    "#log2 para los logaritmos de base 2 de la entropia\n",
    "\n",
    "df = pd.read_csv('tennis.csv')\n",
    "print(\"\\n Dataset de Juego de Tennis:\\n\\n\",df)\n",
    "#impresión de la tabla tennis.csv con sus atributos\n",
    "tree= buildTree(df)\n",
    "#creación del árbol a partir de la base de datos\n",
    "import pprint\n",
    "pprint.pprint(tree)\n",
    "#pprint para la impresión del esquema de árbol ID3 obtenido"
   ]
  },
  {
   "cell_type": "code",
   "execution_count": 7,
   "metadata": {},
   "outputs": [
    {
     "name": "stdout",
     "output_type": "stream",
     "text": [
      "Outlook\n",
      "dict_keys(['Overcast', 'Rain', 'Sunny'])\n",
      "Sunny\n",
      "Humidity\n",
      "dict_keys(['High', 'Normal'])\n",
      "High\n",
      "No\n"
     ]
    }
   ],
   "source": [
    "test={'Outlook':'Sunny','Temperature':'Hot','Humidity':'High','Wind':'Weak'}\n",
    "#uso de un dataset de ejemplos de entrenamiento para el testing de su rendimiento\n",
    "def func(test, tree, default=None):\n",
    "    attribute = next(iter(tree)) \n",
    "    print(attribute) \n",
    "    if test[attribute] in tree[attribute].keys():\n",
    "        print(tree[attribute].keys())\n",
    "        #imprimir los valores del atributo\n",
    "        print(test[attribute])\n",
    "        #imprimir el atributo\n",
    "        result = tree[attribute][test[attribute]]\n",
    "        #resultado de la vinculación de la clasificación del atributo con su valor, siendo iterable hasta llegar a un terminal\n",
    "        if isinstance(result, dict):\n",
    "            return func(test, result)\n",
    "        else:\n",
    "            return result\n",
    "    else:\n",
    "        return default\n",
    "ans = func(test, tree)\n",
    "#imprimir el terminal encontrado por el testeo\n",
    "print(ans)"
   ]
  },
  {
   "cell_type": "code",
   "execution_count": null,
   "metadata": {},
   "outputs": [],
   "source": []
  }
 ],
 "metadata": {
  "kernelspec": {
   "display_name": "Python 3",
   "language": "python",
   "name": "python3"
  },
  "language_info": {
   "codemirror_mode": {
    "name": "ipython",
    "version": 3
   },
   "file_extension": ".py",
   "mimetype": "text/x-python",
   "name": "python",
   "nbconvert_exporter": "python",
   "pygments_lexer": "ipython3",
   "version": "3.8.5"
  }
 },
 "nbformat": 4,
 "nbformat_minor": 4
}
